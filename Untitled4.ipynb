{
  "nbformat": 4,
  "nbformat_minor": 0,
  "metadata": {
    "colab": {
      "provenance": [],
      "include_colab_link": true
    },
    "kernelspec": {
      "name": "python3",
      "display_name": "Python 3"
    },
    "language_info": {
      "name": "python"
    }
  },
  "cells": [
    {
      "cell_type": "markdown",
      "metadata": {
        "id": "view-in-github",
        "colab_type": "text"
      },
      "source": [
        "<a href=\"https://colab.research.google.com/github/Akarshini/AkarshiniPadala/blob/main/Untitled4.ipynb\" target=\"_parent\"><img src=\"https://colab.research.google.com/assets/colab-badge.svg\" alt=\"Open In Colab\"/></a>"
      ]
    },
    {
      "cell_type": "code",
      "source": [
        "import pandas as pd\n",
        "import numpy as np\n",
        "\n",
        "\n",
        "import sklearn\n",
        "import seaborn as sns\n",
        "import matplotlib.pyplot as plt"
      ],
      "metadata": {
        "id": "fCr5HQ66DZV2"
      },
      "execution_count": null,
      "outputs": []
    },
    {
      "cell_type": "code",
      "source": [
        "df=pd.read_csv('Unprocessed Data.csv')\n",
        "df.shape"
      ],
      "metadata": {
        "colab": {
          "base_uri": "https://localhost:8080/"
        },
        "id": "cYfh7b8AB8e2",
        "outputId": "7ea0b792-be13-47ea-e668-f2fe4f7f9422"
      },
      "execution_count": null,
      "outputs": [
        {
          "output_type": "execute_result",
          "data": {
            "text/plain": [
              "(756, 11)"
            ]
          },
          "metadata": {},
          "execution_count": 5
        }
      ]
    },
    {
      "cell_type": "markdown",
      "source": [
        "DATA PREPARATION"
      ],
      "metadata": {
        "id": "XtgzxFCMYiD4"
      }
    },
    {
      "cell_type": "code",
      "source": [
        "df.head()"
      ],
      "metadata": {
        "colab": {
          "base_uri": "https://localhost:8080/",
          "height": 305
        },
        "id": "TynHE0OuDYfL",
        "outputId": "daf409f7-cb7b-47c0-9270-931b0ac069a1"
      },
      "execution_count": null,
      "outputs": [
        {
          "output_type": "execute_result",
          "data": {
            "text/plain": [
              "     State  Year  Nitrogen (%)  Nitrogen (Pounds/Acre)  Phosphorous (%)  \\\n",
              "0  Alabama  1964          99.0                    72.0            100.0   \n",
              "1  Alabama  1965         100.0                    81.0            100.0   \n",
              "2  Alabama  1966         100.0                    83.0            100.0   \n",
              "3  Alabama  1967         100.0                    78.0            100.0   \n",
              "4  Alabama  1968         100.0                    71.0             99.0   \n",
              "\n",
              "   Phosphorous (Pounds/Acre)  Potash (%)  Potash (Pounds/Acre)  \\\n",
              "0                       62.0        99.0                  63.0   \n",
              "1                       63.0       100.0                  66.0   \n",
              "2                       69.0       100.0                  70.0   \n",
              "3                       71.0       100.0                  73.0   \n",
              "4                       71.0        99.0                  73.0   \n",
              "\n",
              "   Area Planted (acres)  Harvested Area (acres)  \\\n",
              "0                   NaN                     NaN   \n",
              "1                   NaN                     NaN   \n",
              "2                   NaN                     NaN   \n",
              "3                   NaN                     NaN   \n",
              "4                   NaN                     NaN   \n",
              "\n",
              "   Lint Yield (Pounds/Harvested Acre)  \n",
              "0                                 NaN  \n",
              "1                                 NaN  \n",
              "2                                 NaN  \n",
              "3                                 NaN  \n",
              "4                                 NaN  "
            ],
            "text/html": [
              "\n",
              "  <div id=\"df-2ea988c2-71fc-4499-b2af-6af81417c11b\">\n",
              "    <div class=\"colab-df-container\">\n",
              "      <div>\n",
              "<style scoped>\n",
              "    .dataframe tbody tr th:only-of-type {\n",
              "        vertical-align: middle;\n",
              "    }\n",
              "\n",
              "    .dataframe tbody tr th {\n",
              "        vertical-align: top;\n",
              "    }\n",
              "\n",
              "    .dataframe thead th {\n",
              "        text-align: right;\n",
              "    }\n",
              "</style>\n",
              "<table border=\"1\" class=\"dataframe\">\n",
              "  <thead>\n",
              "    <tr style=\"text-align: right;\">\n",
              "      <th></th>\n",
              "      <th>State</th>\n",
              "      <th>Year</th>\n",
              "      <th>Nitrogen (%)</th>\n",
              "      <th>Nitrogen (Pounds/Acre)</th>\n",
              "      <th>Phosphorous (%)</th>\n",
              "      <th>Phosphorous (Pounds/Acre)</th>\n",
              "      <th>Potash (%)</th>\n",
              "      <th>Potash (Pounds/Acre)</th>\n",
              "      <th>Area Planted (acres)</th>\n",
              "      <th>Harvested Area (acres)</th>\n",
              "      <th>Lint Yield (Pounds/Harvested Acre)</th>\n",
              "    </tr>\n",
              "  </thead>\n",
              "  <tbody>\n",
              "    <tr>\n",
              "      <th>0</th>\n",
              "      <td>Alabama</td>\n",
              "      <td>1964</td>\n",
              "      <td>99.0</td>\n",
              "      <td>72.0</td>\n",
              "      <td>100.0</td>\n",
              "      <td>62.0</td>\n",
              "      <td>99.0</td>\n",
              "      <td>63.0</td>\n",
              "      <td>NaN</td>\n",
              "      <td>NaN</td>\n",
              "      <td>NaN</td>\n",
              "    </tr>\n",
              "    <tr>\n",
              "      <th>1</th>\n",
              "      <td>Alabama</td>\n",
              "      <td>1965</td>\n",
              "      <td>100.0</td>\n",
              "      <td>81.0</td>\n",
              "      <td>100.0</td>\n",
              "      <td>63.0</td>\n",
              "      <td>100.0</td>\n",
              "      <td>66.0</td>\n",
              "      <td>NaN</td>\n",
              "      <td>NaN</td>\n",
              "      <td>NaN</td>\n",
              "    </tr>\n",
              "    <tr>\n",
              "      <th>2</th>\n",
              "      <td>Alabama</td>\n",
              "      <td>1966</td>\n",
              "      <td>100.0</td>\n",
              "      <td>83.0</td>\n",
              "      <td>100.0</td>\n",
              "      <td>69.0</td>\n",
              "      <td>100.0</td>\n",
              "      <td>70.0</td>\n",
              "      <td>NaN</td>\n",
              "      <td>NaN</td>\n",
              "      <td>NaN</td>\n",
              "    </tr>\n",
              "    <tr>\n",
              "      <th>3</th>\n",
              "      <td>Alabama</td>\n",
              "      <td>1967</td>\n",
              "      <td>100.0</td>\n",
              "      <td>78.0</td>\n",
              "      <td>100.0</td>\n",
              "      <td>71.0</td>\n",
              "      <td>100.0</td>\n",
              "      <td>73.0</td>\n",
              "      <td>NaN</td>\n",
              "      <td>NaN</td>\n",
              "      <td>NaN</td>\n",
              "    </tr>\n",
              "    <tr>\n",
              "      <th>4</th>\n",
              "      <td>Alabama</td>\n",
              "      <td>1968</td>\n",
              "      <td>100.0</td>\n",
              "      <td>71.0</td>\n",
              "      <td>99.0</td>\n",
              "      <td>71.0</td>\n",
              "      <td>99.0</td>\n",
              "      <td>73.0</td>\n",
              "      <td>NaN</td>\n",
              "      <td>NaN</td>\n",
              "      <td>NaN</td>\n",
              "    </tr>\n",
              "  </tbody>\n",
              "</table>\n",
              "</div>\n",
              "      <button class=\"colab-df-convert\" onclick=\"convertToInteractive('df-2ea988c2-71fc-4499-b2af-6af81417c11b')\"\n",
              "              title=\"Convert this dataframe to an interactive table.\"\n",
              "              style=\"display:none;\">\n",
              "        \n",
              "  <svg xmlns=\"http://www.w3.org/2000/svg\" height=\"24px\"viewBox=\"0 0 24 24\"\n",
              "       width=\"24px\">\n",
              "    <path d=\"M0 0h24v24H0V0z\" fill=\"none\"/>\n",
              "    <path d=\"M18.56 5.44l.94 2.06.94-2.06 2.06-.94-2.06-.94-.94-2.06-.94 2.06-2.06.94zm-11 1L8.5 8.5l.94-2.06 2.06-.94-2.06-.94L8.5 2.5l-.94 2.06-2.06.94zm10 10l.94 2.06.94-2.06 2.06-.94-2.06-.94-.94-2.06-.94 2.06-2.06.94z\"/><path d=\"M17.41 7.96l-1.37-1.37c-.4-.4-.92-.59-1.43-.59-.52 0-1.04.2-1.43.59L10.3 9.45l-7.72 7.72c-.78.78-.78 2.05 0 2.83L4 21.41c.39.39.9.59 1.41.59.51 0 1.02-.2 1.41-.59l7.78-7.78 2.81-2.81c.8-.78.8-2.07 0-2.86zM5.41 20L4 18.59l7.72-7.72 1.47 1.35L5.41 20z\"/>\n",
              "  </svg>\n",
              "      </button>\n",
              "      \n",
              "  <style>\n",
              "    .colab-df-container {\n",
              "      display:flex;\n",
              "      flex-wrap:wrap;\n",
              "      gap: 12px;\n",
              "    }\n",
              "\n",
              "    .colab-df-convert {\n",
              "      background-color: #E8F0FE;\n",
              "      border: none;\n",
              "      border-radius: 50%;\n",
              "      cursor: pointer;\n",
              "      display: none;\n",
              "      fill: #1967D2;\n",
              "      height: 32px;\n",
              "      padding: 0 0 0 0;\n",
              "      width: 32px;\n",
              "    }\n",
              "\n",
              "    .colab-df-convert:hover {\n",
              "      background-color: #E2EBFA;\n",
              "      box-shadow: 0px 1px 2px rgba(60, 64, 67, 0.3), 0px 1px 3px 1px rgba(60, 64, 67, 0.15);\n",
              "      fill: #174EA6;\n",
              "    }\n",
              "\n",
              "    [theme=dark] .colab-df-convert {\n",
              "      background-color: #3B4455;\n",
              "      fill: #D2E3FC;\n",
              "    }\n",
              "\n",
              "    [theme=dark] .colab-df-convert:hover {\n",
              "      background-color: #434B5C;\n",
              "      box-shadow: 0px 1px 3px 1px rgba(0, 0, 0, 0.15);\n",
              "      filter: drop-shadow(0px 1px 2px rgba(0, 0, 0, 0.3));\n",
              "      fill: #FFFFFF;\n",
              "    }\n",
              "  </style>\n",
              "\n",
              "      <script>\n",
              "        const buttonEl =\n",
              "          document.querySelector('#df-2ea988c2-71fc-4499-b2af-6af81417c11b button.colab-df-convert');\n",
              "        buttonEl.style.display =\n",
              "          google.colab.kernel.accessAllowed ? 'block' : 'none';\n",
              "\n",
              "        async function convertToInteractive(key) {\n",
              "          const element = document.querySelector('#df-2ea988c2-71fc-4499-b2af-6af81417c11b');\n",
              "          const dataTable =\n",
              "            await google.colab.kernel.invokeFunction('convertToInteractive',\n",
              "                                                     [key], {});\n",
              "          if (!dataTable) return;\n",
              "\n",
              "          const docLinkHtml = 'Like what you see? Visit the ' +\n",
              "            '<a target=\"_blank\" href=https://colab.research.google.com/notebooks/data_table.ipynb>data table notebook</a>'\n",
              "            + ' to learn more about interactive tables.';\n",
              "          element.innerHTML = '';\n",
              "          dataTable['output_type'] = 'display_data';\n",
              "          await google.colab.output.renderOutput(dataTable, element);\n",
              "          const docLink = document.createElement('div');\n",
              "          docLink.innerHTML = docLinkHtml;\n",
              "          element.appendChild(docLink);\n",
              "        }\n",
              "      </script>\n",
              "    </div>\n",
              "  </div>\n",
              "  "
            ]
          },
          "metadata": {},
          "execution_count": 6
        }
      ]
    },
    {
      "cell_type": "code",
      "source": [
        "df.describe()"
      ],
      "metadata": {
        "colab": {
          "base_uri": "https://localhost:8080/",
          "height": 399
        },
        "id": "ZW0lyo_4DrpP",
        "outputId": "ddc250a8-4d8a-409e-bf71-44449bd03f04"
      },
      "execution_count": null,
      "outputs": [
        {
          "output_type": "execute_result",
          "data": {
            "text/plain": [
              "              Year  Nitrogen (%)  Nitrogen (Pounds/Acre)  Phosphorous (%)  \\\n",
              "count   756.000000    468.000000              468.000000       468.000000   \n",
              "mean   1990.500000     89.521368               87.205128        65.450855   \n",
              "std      15.596102     16.834424               31.770601        24.264596   \n",
              "min    1964.000000     29.000000               19.000000        16.000000   \n",
              "25%    1977.000000     91.000000               66.750000        44.000000   \n",
              "50%    1990.500000     97.000000               84.000000        63.000000   \n",
              "75%    2004.000000    100.000000              104.000000        91.000000   \n",
              "max    2017.000000    100.000000              223.000000       100.000000   \n",
              "\n",
              "       Phosphorous (Pounds/Acre)  Potash (%)  Potash (Pounds/Acre)  \\\n",
              "count                 468.000000  462.000000            458.000000   \n",
              "mean                   53.367521   58.660173             58.192140   \n",
              "std                    13.212056   36.089057             29.064521   \n",
              "min                    23.000000    1.000000              1.000000   \n",
              "25%                    44.000000   20.000000             35.250000   \n",
              "50%                    53.000000   68.000000             61.500000   \n",
              "75%                    62.000000   94.000000             80.000000   \n",
              "max                   116.000000  100.000000            118.000000   \n",
              "\n",
              "       Area Planted (acres)  Harvested Area (acres)  \\\n",
              "count            630.000000              630.000000   \n",
              "mean             874.279365              778.571429   \n",
              "std             1454.752247             1186.351037   \n",
              "min               31.000000               30.000000   \n",
              "25%              230.000000              210.000000   \n",
              "50%              397.500000              379.500000   \n",
              "75%              810.000000              800.000000   \n",
              "max             7850.000000             7200.000000   \n",
              "\n",
              "       Lint Yield (Pounds/Harvested Acre)  \n",
              "count                          630.000000  \n",
              "mean                           772.487302  \n",
              "std                            312.577798  \n",
              "min                            174.000000  \n",
              "25%                            545.500000  \n",
              "50%                            723.500000  \n",
              "75%                            953.000000  \n",
              "max                           1910.000000  "
            ],
            "text/html": [
              "\n",
              "  <div id=\"df-a7653442-3200-4c97-8197-dc0f6ad95b26\">\n",
              "    <div class=\"colab-df-container\">\n",
              "      <div>\n",
              "<style scoped>\n",
              "    .dataframe tbody tr th:only-of-type {\n",
              "        vertical-align: middle;\n",
              "    }\n",
              "\n",
              "    .dataframe tbody tr th {\n",
              "        vertical-align: top;\n",
              "    }\n",
              "\n",
              "    .dataframe thead th {\n",
              "        text-align: right;\n",
              "    }\n",
              "</style>\n",
              "<table border=\"1\" class=\"dataframe\">\n",
              "  <thead>\n",
              "    <tr style=\"text-align: right;\">\n",
              "      <th></th>\n",
              "      <th>Year</th>\n",
              "      <th>Nitrogen (%)</th>\n",
              "      <th>Nitrogen (Pounds/Acre)</th>\n",
              "      <th>Phosphorous (%)</th>\n",
              "      <th>Phosphorous (Pounds/Acre)</th>\n",
              "      <th>Potash (%)</th>\n",
              "      <th>Potash (Pounds/Acre)</th>\n",
              "      <th>Area Planted (acres)</th>\n",
              "      <th>Harvested Area (acres)</th>\n",
              "      <th>Lint Yield (Pounds/Harvested Acre)</th>\n",
              "    </tr>\n",
              "  </thead>\n",
              "  <tbody>\n",
              "    <tr>\n",
              "      <th>count</th>\n",
              "      <td>756.000000</td>\n",
              "      <td>468.000000</td>\n",
              "      <td>468.000000</td>\n",
              "      <td>468.000000</td>\n",
              "      <td>468.000000</td>\n",
              "      <td>462.000000</td>\n",
              "      <td>458.000000</td>\n",
              "      <td>630.000000</td>\n",
              "      <td>630.000000</td>\n",
              "      <td>630.000000</td>\n",
              "    </tr>\n",
              "    <tr>\n",
              "      <th>mean</th>\n",
              "      <td>1990.500000</td>\n",
              "      <td>89.521368</td>\n",
              "      <td>87.205128</td>\n",
              "      <td>65.450855</td>\n",
              "      <td>53.367521</td>\n",
              "      <td>58.660173</td>\n",
              "      <td>58.192140</td>\n",
              "      <td>874.279365</td>\n",
              "      <td>778.571429</td>\n",
              "      <td>772.487302</td>\n",
              "    </tr>\n",
              "    <tr>\n",
              "      <th>std</th>\n",
              "      <td>15.596102</td>\n",
              "      <td>16.834424</td>\n",
              "      <td>31.770601</td>\n",
              "      <td>24.264596</td>\n",
              "      <td>13.212056</td>\n",
              "      <td>36.089057</td>\n",
              "      <td>29.064521</td>\n",
              "      <td>1454.752247</td>\n",
              "      <td>1186.351037</td>\n",
              "      <td>312.577798</td>\n",
              "    </tr>\n",
              "    <tr>\n",
              "      <th>min</th>\n",
              "      <td>1964.000000</td>\n",
              "      <td>29.000000</td>\n",
              "      <td>19.000000</td>\n",
              "      <td>16.000000</td>\n",
              "      <td>23.000000</td>\n",
              "      <td>1.000000</td>\n",
              "      <td>1.000000</td>\n",
              "      <td>31.000000</td>\n",
              "      <td>30.000000</td>\n",
              "      <td>174.000000</td>\n",
              "    </tr>\n",
              "    <tr>\n",
              "      <th>25%</th>\n",
              "      <td>1977.000000</td>\n",
              "      <td>91.000000</td>\n",
              "      <td>66.750000</td>\n",
              "      <td>44.000000</td>\n",
              "      <td>44.000000</td>\n",
              "      <td>20.000000</td>\n",
              "      <td>35.250000</td>\n",
              "      <td>230.000000</td>\n",
              "      <td>210.000000</td>\n",
              "      <td>545.500000</td>\n",
              "    </tr>\n",
              "    <tr>\n",
              "      <th>50%</th>\n",
              "      <td>1990.500000</td>\n",
              "      <td>97.000000</td>\n",
              "      <td>84.000000</td>\n",
              "      <td>63.000000</td>\n",
              "      <td>53.000000</td>\n",
              "      <td>68.000000</td>\n",
              "      <td>61.500000</td>\n",
              "      <td>397.500000</td>\n",
              "      <td>379.500000</td>\n",
              "      <td>723.500000</td>\n",
              "    </tr>\n",
              "    <tr>\n",
              "      <th>75%</th>\n",
              "      <td>2004.000000</td>\n",
              "      <td>100.000000</td>\n",
              "      <td>104.000000</td>\n",
              "      <td>91.000000</td>\n",
              "      <td>62.000000</td>\n",
              "      <td>94.000000</td>\n",
              "      <td>80.000000</td>\n",
              "      <td>810.000000</td>\n",
              "      <td>800.000000</td>\n",
              "      <td>953.000000</td>\n",
              "    </tr>\n",
              "    <tr>\n",
              "      <th>max</th>\n",
              "      <td>2017.000000</td>\n",
              "      <td>100.000000</td>\n",
              "      <td>223.000000</td>\n",
              "      <td>100.000000</td>\n",
              "      <td>116.000000</td>\n",
              "      <td>100.000000</td>\n",
              "      <td>118.000000</td>\n",
              "      <td>7850.000000</td>\n",
              "      <td>7200.000000</td>\n",
              "      <td>1910.000000</td>\n",
              "    </tr>\n",
              "  </tbody>\n",
              "</table>\n",
              "</div>\n",
              "      <button class=\"colab-df-convert\" onclick=\"convertToInteractive('df-a7653442-3200-4c97-8197-dc0f6ad95b26')\"\n",
              "              title=\"Convert this dataframe to an interactive table.\"\n",
              "              style=\"display:none;\">\n",
              "        \n",
              "  <svg xmlns=\"http://www.w3.org/2000/svg\" height=\"24px\"viewBox=\"0 0 24 24\"\n",
              "       width=\"24px\">\n",
              "    <path d=\"M0 0h24v24H0V0z\" fill=\"none\"/>\n",
              "    <path d=\"M18.56 5.44l.94 2.06.94-2.06 2.06-.94-2.06-.94-.94-2.06-.94 2.06-2.06.94zm-11 1L8.5 8.5l.94-2.06 2.06-.94-2.06-.94L8.5 2.5l-.94 2.06-2.06.94zm10 10l.94 2.06.94-2.06 2.06-.94-2.06-.94-.94-2.06-.94 2.06-2.06.94z\"/><path d=\"M17.41 7.96l-1.37-1.37c-.4-.4-.92-.59-1.43-.59-.52 0-1.04.2-1.43.59L10.3 9.45l-7.72 7.72c-.78.78-.78 2.05 0 2.83L4 21.41c.39.39.9.59 1.41.59.51 0 1.02-.2 1.41-.59l7.78-7.78 2.81-2.81c.8-.78.8-2.07 0-2.86zM5.41 20L4 18.59l7.72-7.72 1.47 1.35L5.41 20z\"/>\n",
              "  </svg>\n",
              "      </button>\n",
              "      \n",
              "  <style>\n",
              "    .colab-df-container {\n",
              "      display:flex;\n",
              "      flex-wrap:wrap;\n",
              "      gap: 12px;\n",
              "    }\n",
              "\n",
              "    .colab-df-convert {\n",
              "      background-color: #E8F0FE;\n",
              "      border: none;\n",
              "      border-radius: 50%;\n",
              "      cursor: pointer;\n",
              "      display: none;\n",
              "      fill: #1967D2;\n",
              "      height: 32px;\n",
              "      padding: 0 0 0 0;\n",
              "      width: 32px;\n",
              "    }\n",
              "\n",
              "    .colab-df-convert:hover {\n",
              "      background-color: #E2EBFA;\n",
              "      box-shadow: 0px 1px 2px rgba(60, 64, 67, 0.3), 0px 1px 3px 1px rgba(60, 64, 67, 0.15);\n",
              "      fill: #174EA6;\n",
              "    }\n",
              "\n",
              "    [theme=dark] .colab-df-convert {\n",
              "      background-color: #3B4455;\n",
              "      fill: #D2E3FC;\n",
              "    }\n",
              "\n",
              "    [theme=dark] .colab-df-convert:hover {\n",
              "      background-color: #434B5C;\n",
              "      box-shadow: 0px 1px 3px 1px rgba(0, 0, 0, 0.15);\n",
              "      filter: drop-shadow(0px 1px 2px rgba(0, 0, 0, 0.3));\n",
              "      fill: #FFFFFF;\n",
              "    }\n",
              "  </style>\n",
              "\n",
              "      <script>\n",
              "        const buttonEl =\n",
              "          document.querySelector('#df-a7653442-3200-4c97-8197-dc0f6ad95b26 button.colab-df-convert');\n",
              "        buttonEl.style.display =\n",
              "          google.colab.kernel.accessAllowed ? 'block' : 'none';\n",
              "\n",
              "        async function convertToInteractive(key) {\n",
              "          const element = document.querySelector('#df-a7653442-3200-4c97-8197-dc0f6ad95b26');\n",
              "          const dataTable =\n",
              "            await google.colab.kernel.invokeFunction('convertToInteractive',\n",
              "                                                     [key], {});\n",
              "          if (!dataTable) return;\n",
              "\n",
              "          const docLinkHtml = 'Like what you see? Visit the ' +\n",
              "            '<a target=\"_blank\" href=https://colab.research.google.com/notebooks/data_table.ipynb>data table notebook</a>'\n",
              "            + ' to learn more about interactive tables.';\n",
              "          element.innerHTML = '';\n",
              "          dataTable['output_type'] = 'display_data';\n",
              "          await google.colab.output.renderOutput(dataTable, element);\n",
              "          const docLink = document.createElement('div');\n",
              "          docLink.innerHTML = docLinkHtml;\n",
              "          element.appendChild(docLink);\n",
              "        }\n",
              "      </script>\n",
              "    </div>\n",
              "  </div>\n",
              "  "
            ]
          },
          "metadata": {},
          "execution_count": 7
        }
      ]
    },
    {
      "cell_type": "code",
      "source": [
        "df"
      ],
      "metadata": {
        "colab": {
          "base_uri": "https://localhost:8080/",
          "height": 522
        },
        "id": "AVDfSpMOW4Pt",
        "outputId": "a3375e94-1d43-4302-b42d-3b81077cd50f"
      },
      "execution_count": null,
      "outputs": [
        {
          "output_type": "execute_result",
          "data": {
            "text/plain": [
              "       State  Year  Nitrogen (%)  Nitrogen (Pounds/Acre)  Phosphorous (%)  \\\n",
              "0    Alabama  1964          99.0                    72.0            100.0   \n",
              "1    Alabama  1965         100.0                    81.0            100.0   \n",
              "2    Alabama  1966         100.0                    83.0            100.0   \n",
              "3    Alabama  1967         100.0                    78.0            100.0   \n",
              "4    Alabama  1968         100.0                    71.0             99.0   \n",
              "..       ...   ...           ...                     ...              ...   \n",
              "751    Texas  2013           NaN                     NaN              NaN   \n",
              "752    Texas  2014           NaN                     NaN              NaN   \n",
              "753    Texas  2015          66.0                    65.0             46.0   \n",
              "754    Texas  2016           NaN                     NaN              NaN   \n",
              "755    Texas  2017          68.0                    77.0             52.0   \n",
              "\n",
              "     Phosphorous (Pounds/Acre)  Potash (%)  Potash (Pounds/Acre)  \\\n",
              "0                         62.0        99.0                  63.0   \n",
              "1                         63.0       100.0                  66.0   \n",
              "2                         69.0       100.0                  70.0   \n",
              "3                         71.0       100.0                  73.0   \n",
              "4                         71.0        99.0                  73.0   \n",
              "..                         ...         ...                   ...   \n",
              "751                        NaN         NaN                   NaN   \n",
              "752                        NaN         NaN                   NaN   \n",
              "753                       34.0        16.0                  14.0   \n",
              "754                        NaN         NaN                   NaN   \n",
              "755                       37.0        25.0                  20.0   \n",
              "\n",
              "     Area Planted (acres)  Harvested Area (acres)  \\\n",
              "0                     NaN                     NaN   \n",
              "1                     NaN                     NaN   \n",
              "2                     NaN                     NaN   \n",
              "3                     NaN                     NaN   \n",
              "4                     NaN                     NaN   \n",
              "..                    ...                     ...   \n",
              "751                4800.0                  4500.0   \n",
              "752                5650.0                  5200.0   \n",
              "753                7000.0                  5500.0   \n",
              "754                7750.0                  4350.0   \n",
              "755                7050.0                  6000.0   \n",
              "\n",
              "     Lint Yield (Pounds/Harvested Acre)  \n",
              "0                                   NaN  \n",
              "1                                   NaN  \n",
              "2                                   NaN  \n",
              "3                                   NaN  \n",
              "4                                   NaN  \n",
              "..                                  ...  \n",
              "751                               610.0  \n",
              "752                               748.0  \n",
              "753                               809.0  \n",
              "754                               756.0  \n",
              "755                               568.0  \n",
              "\n",
              "[756 rows x 11 columns]"
            ],
            "text/html": [
              "\n",
              "  <div id=\"df-60510234-25ba-46da-82fe-67aa1af34f98\">\n",
              "    <div class=\"colab-df-container\">\n",
              "      <div>\n",
              "<style scoped>\n",
              "    .dataframe tbody tr th:only-of-type {\n",
              "        vertical-align: middle;\n",
              "    }\n",
              "\n",
              "    .dataframe tbody tr th {\n",
              "        vertical-align: top;\n",
              "    }\n",
              "\n",
              "    .dataframe thead th {\n",
              "        text-align: right;\n",
              "    }\n",
              "</style>\n",
              "<table border=\"1\" class=\"dataframe\">\n",
              "  <thead>\n",
              "    <tr style=\"text-align: right;\">\n",
              "      <th></th>\n",
              "      <th>State</th>\n",
              "      <th>Year</th>\n",
              "      <th>Nitrogen (%)</th>\n",
              "      <th>Nitrogen (Pounds/Acre)</th>\n",
              "      <th>Phosphorous (%)</th>\n",
              "      <th>Phosphorous (Pounds/Acre)</th>\n",
              "      <th>Potash (%)</th>\n",
              "      <th>Potash (Pounds/Acre)</th>\n",
              "      <th>Area Planted (acres)</th>\n",
              "      <th>Harvested Area (acres)</th>\n",
              "      <th>Lint Yield (Pounds/Harvested Acre)</th>\n",
              "    </tr>\n",
              "  </thead>\n",
              "  <tbody>\n",
              "    <tr>\n",
              "      <th>0</th>\n",
              "      <td>Alabama</td>\n",
              "      <td>1964</td>\n",
              "      <td>99.0</td>\n",
              "      <td>72.0</td>\n",
              "      <td>100.0</td>\n",
              "      <td>62.0</td>\n",
              "      <td>99.0</td>\n",
              "      <td>63.0</td>\n",
              "      <td>NaN</td>\n",
              "      <td>NaN</td>\n",
              "      <td>NaN</td>\n",
              "    </tr>\n",
              "    <tr>\n",
              "      <th>1</th>\n",
              "      <td>Alabama</td>\n",
              "      <td>1965</td>\n",
              "      <td>100.0</td>\n",
              "      <td>81.0</td>\n",
              "      <td>100.0</td>\n",
              "      <td>63.0</td>\n",
              "      <td>100.0</td>\n",
              "      <td>66.0</td>\n",
              "      <td>NaN</td>\n",
              "      <td>NaN</td>\n",
              "      <td>NaN</td>\n",
              "    </tr>\n",
              "    <tr>\n",
              "      <th>2</th>\n",
              "      <td>Alabama</td>\n",
              "      <td>1966</td>\n",
              "      <td>100.0</td>\n",
              "      <td>83.0</td>\n",
              "      <td>100.0</td>\n",
              "      <td>69.0</td>\n",
              "      <td>100.0</td>\n",
              "      <td>70.0</td>\n",
              "      <td>NaN</td>\n",
              "      <td>NaN</td>\n",
              "      <td>NaN</td>\n",
              "    </tr>\n",
              "    <tr>\n",
              "      <th>3</th>\n",
              "      <td>Alabama</td>\n",
              "      <td>1967</td>\n",
              "      <td>100.0</td>\n",
              "      <td>78.0</td>\n",
              "      <td>100.0</td>\n",
              "      <td>71.0</td>\n",
              "      <td>100.0</td>\n",
              "      <td>73.0</td>\n",
              "      <td>NaN</td>\n",
              "      <td>NaN</td>\n",
              "      <td>NaN</td>\n",
              "    </tr>\n",
              "    <tr>\n",
              "      <th>4</th>\n",
              "      <td>Alabama</td>\n",
              "      <td>1968</td>\n",
              "      <td>100.0</td>\n",
              "      <td>71.0</td>\n",
              "      <td>99.0</td>\n",
              "      <td>71.0</td>\n",
              "      <td>99.0</td>\n",
              "      <td>73.0</td>\n",
              "      <td>NaN</td>\n",
              "      <td>NaN</td>\n",
              "      <td>NaN</td>\n",
              "    </tr>\n",
              "    <tr>\n",
              "      <th>...</th>\n",
              "      <td>...</td>\n",
              "      <td>...</td>\n",
              "      <td>...</td>\n",
              "      <td>...</td>\n",
              "      <td>...</td>\n",
              "      <td>...</td>\n",
              "      <td>...</td>\n",
              "      <td>...</td>\n",
              "      <td>...</td>\n",
              "      <td>...</td>\n",
              "      <td>...</td>\n",
              "    </tr>\n",
              "    <tr>\n",
              "      <th>751</th>\n",
              "      <td>Texas</td>\n",
              "      <td>2013</td>\n",
              "      <td>NaN</td>\n",
              "      <td>NaN</td>\n",
              "      <td>NaN</td>\n",
              "      <td>NaN</td>\n",
              "      <td>NaN</td>\n",
              "      <td>NaN</td>\n",
              "      <td>4800.0</td>\n",
              "      <td>4500.0</td>\n",
              "      <td>610.0</td>\n",
              "    </tr>\n",
              "    <tr>\n",
              "      <th>752</th>\n",
              "      <td>Texas</td>\n",
              "      <td>2014</td>\n",
              "      <td>NaN</td>\n",
              "      <td>NaN</td>\n",
              "      <td>NaN</td>\n",
              "      <td>NaN</td>\n",
              "      <td>NaN</td>\n",
              "      <td>NaN</td>\n",
              "      <td>5650.0</td>\n",
              "      <td>5200.0</td>\n",
              "      <td>748.0</td>\n",
              "    </tr>\n",
              "    <tr>\n",
              "      <th>753</th>\n",
              "      <td>Texas</td>\n",
              "      <td>2015</td>\n",
              "      <td>66.0</td>\n",
              "      <td>65.0</td>\n",
              "      <td>46.0</td>\n",
              "      <td>34.0</td>\n",
              "      <td>16.0</td>\n",
              "      <td>14.0</td>\n",
              "      <td>7000.0</td>\n",
              "      <td>5500.0</td>\n",
              "      <td>809.0</td>\n",
              "    </tr>\n",
              "    <tr>\n",
              "      <th>754</th>\n",
              "      <td>Texas</td>\n",
              "      <td>2016</td>\n",
              "      <td>NaN</td>\n",
              "      <td>NaN</td>\n",
              "      <td>NaN</td>\n",
              "      <td>NaN</td>\n",
              "      <td>NaN</td>\n",
              "      <td>NaN</td>\n",
              "      <td>7750.0</td>\n",
              "      <td>4350.0</td>\n",
              "      <td>756.0</td>\n",
              "    </tr>\n",
              "    <tr>\n",
              "      <th>755</th>\n",
              "      <td>Texas</td>\n",
              "      <td>2017</td>\n",
              "      <td>68.0</td>\n",
              "      <td>77.0</td>\n",
              "      <td>52.0</td>\n",
              "      <td>37.0</td>\n",
              "      <td>25.0</td>\n",
              "      <td>20.0</td>\n",
              "      <td>7050.0</td>\n",
              "      <td>6000.0</td>\n",
              "      <td>568.0</td>\n",
              "    </tr>\n",
              "  </tbody>\n",
              "</table>\n",
              "<p>756 rows × 11 columns</p>\n",
              "</div>\n",
              "      <button class=\"colab-df-convert\" onclick=\"convertToInteractive('df-60510234-25ba-46da-82fe-67aa1af34f98')\"\n",
              "              title=\"Convert this dataframe to an interactive table.\"\n",
              "              style=\"display:none;\">\n",
              "        \n",
              "  <svg xmlns=\"http://www.w3.org/2000/svg\" height=\"24px\"viewBox=\"0 0 24 24\"\n",
              "       width=\"24px\">\n",
              "    <path d=\"M0 0h24v24H0V0z\" fill=\"none\"/>\n",
              "    <path d=\"M18.56 5.44l.94 2.06.94-2.06 2.06-.94-2.06-.94-.94-2.06-.94 2.06-2.06.94zm-11 1L8.5 8.5l.94-2.06 2.06-.94-2.06-.94L8.5 2.5l-.94 2.06-2.06.94zm10 10l.94 2.06.94-2.06 2.06-.94-2.06-.94-.94-2.06-.94 2.06-2.06.94z\"/><path d=\"M17.41 7.96l-1.37-1.37c-.4-.4-.92-.59-1.43-.59-.52 0-1.04.2-1.43.59L10.3 9.45l-7.72 7.72c-.78.78-.78 2.05 0 2.83L4 21.41c.39.39.9.59 1.41.59.51 0 1.02-.2 1.41-.59l7.78-7.78 2.81-2.81c.8-.78.8-2.07 0-2.86zM5.41 20L4 18.59l7.72-7.72 1.47 1.35L5.41 20z\"/>\n",
              "  </svg>\n",
              "      </button>\n",
              "      \n",
              "  <style>\n",
              "    .colab-df-container {\n",
              "      display:flex;\n",
              "      flex-wrap:wrap;\n",
              "      gap: 12px;\n",
              "    }\n",
              "\n",
              "    .colab-df-convert {\n",
              "      background-color: #E8F0FE;\n",
              "      border: none;\n",
              "      border-radius: 50%;\n",
              "      cursor: pointer;\n",
              "      display: none;\n",
              "      fill: #1967D2;\n",
              "      height: 32px;\n",
              "      padding: 0 0 0 0;\n",
              "      width: 32px;\n",
              "    }\n",
              "\n",
              "    .colab-df-convert:hover {\n",
              "      background-color: #E2EBFA;\n",
              "      box-shadow: 0px 1px 2px rgba(60, 64, 67, 0.3), 0px 1px 3px 1px rgba(60, 64, 67, 0.15);\n",
              "      fill: #174EA6;\n",
              "    }\n",
              "\n",
              "    [theme=dark] .colab-df-convert {\n",
              "      background-color: #3B4455;\n",
              "      fill: #D2E3FC;\n",
              "    }\n",
              "\n",
              "    [theme=dark] .colab-df-convert:hover {\n",
              "      background-color: #434B5C;\n",
              "      box-shadow: 0px 1px 3px 1px rgba(0, 0, 0, 0.15);\n",
              "      filter: drop-shadow(0px 1px 2px rgba(0, 0, 0, 0.3));\n",
              "      fill: #FFFFFF;\n",
              "    }\n",
              "  </style>\n",
              "\n",
              "      <script>\n",
              "        const buttonEl =\n",
              "          document.querySelector('#df-60510234-25ba-46da-82fe-67aa1af34f98 button.colab-df-convert');\n",
              "        buttonEl.style.display =\n",
              "          google.colab.kernel.accessAllowed ? 'block' : 'none';\n",
              "\n",
              "        async function convertToInteractive(key) {\n",
              "          const element = document.querySelector('#df-60510234-25ba-46da-82fe-67aa1af34f98');\n",
              "          const dataTable =\n",
              "            await google.colab.kernel.invokeFunction('convertToInteractive',\n",
              "                                                     [key], {});\n",
              "          if (!dataTable) return;\n",
              "\n",
              "          const docLinkHtml = 'Like what you see? Visit the ' +\n",
              "            '<a target=\"_blank\" href=https://colab.research.google.com/notebooks/data_table.ipynb>data table notebook</a>'\n",
              "            + ' to learn more about interactive tables.';\n",
              "          element.innerHTML = '';\n",
              "          dataTable['output_type'] = 'display_data';\n",
              "          await google.colab.output.renderOutput(dataTable, element);\n",
              "          const docLink = document.createElement('div');\n",
              "          docLink.innerHTML = docLinkHtml;\n",
              "          element.appendChild(docLink);\n",
              "        }\n",
              "      </script>\n",
              "    </div>\n",
              "  </div>\n",
              "  "
            ]
          },
          "metadata": {},
          "execution_count": 8
        }
      ]
    },
    {
      "cell_type": "code",
      "source": [
        "df.info()"
      ],
      "metadata": {
        "colab": {
          "base_uri": "https://localhost:8080/"
        },
        "id": "6LeKQ1PbXL6k",
        "outputId": "3ed002b8-ee2c-48f2-9a35-d8d19a9880e1"
      },
      "execution_count": null,
      "outputs": [
        {
          "output_type": "stream",
          "name": "stdout",
          "text": [
            "<class 'pandas.core.frame.DataFrame'>\n",
            "RangeIndex: 756 entries, 0 to 755\n",
            "Data columns (total 11 columns):\n",
            " #   Column                              Non-Null Count  Dtype  \n",
            "---  ------                              --------------  -----  \n",
            " 0   State                               756 non-null    object \n",
            " 1   Year                                756 non-null    int64  \n",
            " 2   Nitrogen (%)                        468 non-null    float64\n",
            " 3   Nitrogen (Pounds/Acre)              468 non-null    float64\n",
            " 4   Phosphorous (%)                     468 non-null    float64\n",
            " 5   Phosphorous (Pounds/Acre)           468 non-null    float64\n",
            " 6   Potash (%)                          462 non-null    float64\n",
            " 7   Potash (Pounds/Acre)                458 non-null    float64\n",
            " 8   Area Planted (acres)                630 non-null    float64\n",
            " 9   Harvested Area (acres)              630 non-null    float64\n",
            " 10  Lint Yield (Pounds/Harvested Acre)  630 non-null    float64\n",
            "dtypes: float64(9), int64(1), object(1)\n",
            "memory usage: 65.1+ KB\n"
          ]
        }
      ]
    },
    {
      "cell_type": "markdown",
      "source": [
        "Splitting into Train and Test set"
      ],
      "metadata": {
        "id": "Q_t-5y8oULp3"
      }
    },
    {
      "cell_type": "code",
      "source": [
        "X = df.drop(['State','Year'], axis = 1)\n",
        "Y = np.array(df['Year'])\n",
        "Y = Y.reshape((-1,1))"
      ],
      "metadata": {
        "id": "icFYhrmCTKc5"
      },
      "execution_count": null,
      "outputs": []
    },
    {
      "cell_type": "code",
      "source": [
        "from sklearn.model_selection import train_test_split, cross_val_score, GridSearchCV"
      ],
      "metadata": {
        "id": "nGeWDSsgUIzX"
      },
      "execution_count": null,
      "outputs": []
    },
    {
      "cell_type": "code",
      "source": [
        "X_train, X_test, Y_train, Y_test  = train_test_split(X, Y, test_size=0.2, random_state=10)\n",
        "print(X_train.shape, X_test.shape, Y_train.shape, Y_test.shape)"
      ],
      "metadata": {
        "colab": {
          "base_uri": "https://localhost:8080/"
        },
        "id": "92h_nl77T9wX",
        "outputId": "7bc7bc6d-5ac3-45dc-b436-9012b8798e22"
      },
      "execution_count": null,
      "outputs": [
        {
          "output_type": "stream",
          "name": "stdout",
          "text": [
            "(604, 9) (152, 9) (604, 1) (152, 1)\n"
          ]
        }
      ]
    },
    {
      "cell_type": "code",
      "source": [
        "#no.of states\n",
        "len(df['State'].unique())"
      ],
      "metadata": {
        "colab": {
          "base_uri": "https://localhost:8080/"
        },
        "id": "DDsEnhk2XXtX",
        "outputId": "38fb5434-2c44-4ba6-f390-d904bc4128cb"
      },
      "execution_count": null,
      "outputs": [
        {
          "output_type": "execute_result",
          "data": {
            "text/plain": [
              "14"
            ]
          },
          "metadata": {},
          "execution_count": 14
        }
      ]
    },
    {
      "cell_type": "code",
      "source": [
        "#no.of years\n",
        "len(df['Year'].unique())"
      ],
      "metadata": {
        "colab": {
          "base_uri": "https://localhost:8080/"
        },
        "id": "Tt5oorFXXx1f",
        "outputId": "9ab3ab21-ee60-42d4-91f5-8f8c4ed480af"
      },
      "execution_count": null,
      "outputs": [
        {
          "output_type": "execute_result",
          "data": {
            "text/plain": [
              "54"
            ]
          },
          "metadata": {},
          "execution_count": 15
        }
      ]
    },
    {
      "cell_type": "code",
      "source": [
        "len(df['Nitrogen (%)'].unique())"
      ],
      "metadata": {
        "colab": {
          "base_uri": "https://localhost:8080/"
        },
        "id": "n6eKQPxdX_6Y",
        "outputId": "b21f4fe0-ca70-4966-dd59-c639aff5b6b4"
      },
      "execution_count": null,
      "outputs": [
        {
          "output_type": "execute_result",
          "data": {
            "text/plain": [
              "53"
            ]
          },
          "metadata": {},
          "execution_count": 16
        }
      ]
    },
    {
      "cell_type": "code",
      "source": [
        "# crop data in years for each country\n",
        "df = df.groupby(['State', 'Year'], as_index=False, axis=0).sum()\n",
        "df"
      ],
      "metadata": {
        "colab": {
          "base_uri": "https://localhost:8080/",
          "height": 522
        },
        "id": "DegpYmKXaxcX",
        "outputId": "dc123dff-d656-4c48-dab6-0b6266419b98"
      },
      "execution_count": null,
      "outputs": [
        {
          "output_type": "execute_result",
          "data": {
            "text/plain": [
              "       State  Year  Nitrogen (%)  Nitrogen (Pounds/Acre)  Phosphorous (%)  \\\n",
              "0    Alabama  1964          99.0                    72.0            100.0   \n",
              "1    Alabama  1965         100.0                    81.0            100.0   \n",
              "2    Alabama  1966         100.0                    83.0            100.0   \n",
              "3    Alabama  1967         100.0                    78.0            100.0   \n",
              "4    Alabama  1968         100.0                    71.0             99.0   \n",
              "..       ...   ...           ...                     ...              ...   \n",
              "751    Texas  2013           0.0                     0.0              0.0   \n",
              "752    Texas  2014           0.0                     0.0              0.0   \n",
              "753    Texas  2015          66.0                    65.0             46.0   \n",
              "754    Texas  2016           0.0                     0.0              0.0   \n",
              "755    Texas  2017          68.0                    77.0             52.0   \n",
              "\n",
              "     Phosphorous (Pounds/Acre)  Potash (%)  Potash (Pounds/Acre)  \\\n",
              "0                         62.0        99.0                  63.0   \n",
              "1                         63.0       100.0                  66.0   \n",
              "2                         69.0       100.0                  70.0   \n",
              "3                         71.0       100.0                  73.0   \n",
              "4                         71.0        99.0                  73.0   \n",
              "..                         ...         ...                   ...   \n",
              "751                        0.0         0.0                   0.0   \n",
              "752                        0.0         0.0                   0.0   \n",
              "753                       34.0        16.0                  14.0   \n",
              "754                        0.0         0.0                   0.0   \n",
              "755                       37.0        25.0                  20.0   \n",
              "\n",
              "     Area Planted (acres)  Harvested Area (acres)  \\\n",
              "0                     0.0                     0.0   \n",
              "1                     0.0                     0.0   \n",
              "2                     0.0                     0.0   \n",
              "3                     0.0                     0.0   \n",
              "4                     0.0                     0.0   \n",
              "..                    ...                     ...   \n",
              "751                4800.0                  4500.0   \n",
              "752                5650.0                  5200.0   \n",
              "753                7000.0                  5500.0   \n",
              "754                7750.0                  4350.0   \n",
              "755                7050.0                  6000.0   \n",
              "\n",
              "     Lint Yield (Pounds/Harvested Acre)  \n",
              "0                                   0.0  \n",
              "1                                   0.0  \n",
              "2                                   0.0  \n",
              "3                                   0.0  \n",
              "4                                   0.0  \n",
              "..                                  ...  \n",
              "751                               610.0  \n",
              "752                               748.0  \n",
              "753                               809.0  \n",
              "754                               756.0  \n",
              "755                               568.0  \n",
              "\n",
              "[756 rows x 11 columns]"
            ],
            "text/html": [
              "\n",
              "  <div id=\"df-7e02cb1c-698b-4e23-b4f2-da24f58c1c49\">\n",
              "    <div class=\"colab-df-container\">\n",
              "      <div>\n",
              "<style scoped>\n",
              "    .dataframe tbody tr th:only-of-type {\n",
              "        vertical-align: middle;\n",
              "    }\n",
              "\n",
              "    .dataframe tbody tr th {\n",
              "        vertical-align: top;\n",
              "    }\n",
              "\n",
              "    .dataframe thead th {\n",
              "        text-align: right;\n",
              "    }\n",
              "</style>\n",
              "<table border=\"1\" class=\"dataframe\">\n",
              "  <thead>\n",
              "    <tr style=\"text-align: right;\">\n",
              "      <th></th>\n",
              "      <th>State</th>\n",
              "      <th>Year</th>\n",
              "      <th>Nitrogen (%)</th>\n",
              "      <th>Nitrogen (Pounds/Acre)</th>\n",
              "      <th>Phosphorous (%)</th>\n",
              "      <th>Phosphorous (Pounds/Acre)</th>\n",
              "      <th>Potash (%)</th>\n",
              "      <th>Potash (Pounds/Acre)</th>\n",
              "      <th>Area Planted (acres)</th>\n",
              "      <th>Harvested Area (acres)</th>\n",
              "      <th>Lint Yield (Pounds/Harvested Acre)</th>\n",
              "    </tr>\n",
              "  </thead>\n",
              "  <tbody>\n",
              "    <tr>\n",
              "      <th>0</th>\n",
              "      <td>Alabama</td>\n",
              "      <td>1964</td>\n",
              "      <td>99.0</td>\n",
              "      <td>72.0</td>\n",
              "      <td>100.0</td>\n",
              "      <td>62.0</td>\n",
              "      <td>99.0</td>\n",
              "      <td>63.0</td>\n",
              "      <td>0.0</td>\n",
              "      <td>0.0</td>\n",
              "      <td>0.0</td>\n",
              "    </tr>\n",
              "    <tr>\n",
              "      <th>1</th>\n",
              "      <td>Alabama</td>\n",
              "      <td>1965</td>\n",
              "      <td>100.0</td>\n",
              "      <td>81.0</td>\n",
              "      <td>100.0</td>\n",
              "      <td>63.0</td>\n",
              "      <td>100.0</td>\n",
              "      <td>66.0</td>\n",
              "      <td>0.0</td>\n",
              "      <td>0.0</td>\n",
              "      <td>0.0</td>\n",
              "    </tr>\n",
              "    <tr>\n",
              "      <th>2</th>\n",
              "      <td>Alabama</td>\n",
              "      <td>1966</td>\n",
              "      <td>100.0</td>\n",
              "      <td>83.0</td>\n",
              "      <td>100.0</td>\n",
              "      <td>69.0</td>\n",
              "      <td>100.0</td>\n",
              "      <td>70.0</td>\n",
              "      <td>0.0</td>\n",
              "      <td>0.0</td>\n",
              "      <td>0.0</td>\n",
              "    </tr>\n",
              "    <tr>\n",
              "      <th>3</th>\n",
              "      <td>Alabama</td>\n",
              "      <td>1967</td>\n",
              "      <td>100.0</td>\n",
              "      <td>78.0</td>\n",
              "      <td>100.0</td>\n",
              "      <td>71.0</td>\n",
              "      <td>100.0</td>\n",
              "      <td>73.0</td>\n",
              "      <td>0.0</td>\n",
              "      <td>0.0</td>\n",
              "      <td>0.0</td>\n",
              "    </tr>\n",
              "    <tr>\n",
              "      <th>4</th>\n",
              "      <td>Alabama</td>\n",
              "      <td>1968</td>\n",
              "      <td>100.0</td>\n",
              "      <td>71.0</td>\n",
              "      <td>99.0</td>\n",
              "      <td>71.0</td>\n",
              "      <td>99.0</td>\n",
              "      <td>73.0</td>\n",
              "      <td>0.0</td>\n",
              "      <td>0.0</td>\n",
              "      <td>0.0</td>\n",
              "    </tr>\n",
              "    <tr>\n",
              "      <th>...</th>\n",
              "      <td>...</td>\n",
              "      <td>...</td>\n",
              "      <td>...</td>\n",
              "      <td>...</td>\n",
              "      <td>...</td>\n",
              "      <td>...</td>\n",
              "      <td>...</td>\n",
              "      <td>...</td>\n",
              "      <td>...</td>\n",
              "      <td>...</td>\n",
              "      <td>...</td>\n",
              "    </tr>\n",
              "    <tr>\n",
              "      <th>751</th>\n",
              "      <td>Texas</td>\n",
              "      <td>2013</td>\n",
              "      <td>0.0</td>\n",
              "      <td>0.0</td>\n",
              "      <td>0.0</td>\n",
              "      <td>0.0</td>\n",
              "      <td>0.0</td>\n",
              "      <td>0.0</td>\n",
              "      <td>4800.0</td>\n",
              "      <td>4500.0</td>\n",
              "      <td>610.0</td>\n",
              "    </tr>\n",
              "    <tr>\n",
              "      <th>752</th>\n",
              "      <td>Texas</td>\n",
              "      <td>2014</td>\n",
              "      <td>0.0</td>\n",
              "      <td>0.0</td>\n",
              "      <td>0.0</td>\n",
              "      <td>0.0</td>\n",
              "      <td>0.0</td>\n",
              "      <td>0.0</td>\n",
              "      <td>5650.0</td>\n",
              "      <td>5200.0</td>\n",
              "      <td>748.0</td>\n",
              "    </tr>\n",
              "    <tr>\n",
              "      <th>753</th>\n",
              "      <td>Texas</td>\n",
              "      <td>2015</td>\n",
              "      <td>66.0</td>\n",
              "      <td>65.0</td>\n",
              "      <td>46.0</td>\n",
              "      <td>34.0</td>\n",
              "      <td>16.0</td>\n",
              "      <td>14.0</td>\n",
              "      <td>7000.0</td>\n",
              "      <td>5500.0</td>\n",
              "      <td>809.0</td>\n",
              "    </tr>\n",
              "    <tr>\n",
              "      <th>754</th>\n",
              "      <td>Texas</td>\n",
              "      <td>2016</td>\n",
              "      <td>0.0</td>\n",
              "      <td>0.0</td>\n",
              "      <td>0.0</td>\n",
              "      <td>0.0</td>\n",
              "      <td>0.0</td>\n",
              "      <td>0.0</td>\n",
              "      <td>7750.0</td>\n",
              "      <td>4350.0</td>\n",
              "      <td>756.0</td>\n",
              "    </tr>\n",
              "    <tr>\n",
              "      <th>755</th>\n",
              "      <td>Texas</td>\n",
              "      <td>2017</td>\n",
              "      <td>68.0</td>\n",
              "      <td>77.0</td>\n",
              "      <td>52.0</td>\n",
              "      <td>37.0</td>\n",
              "      <td>25.0</td>\n",
              "      <td>20.0</td>\n",
              "      <td>7050.0</td>\n",
              "      <td>6000.0</td>\n",
              "      <td>568.0</td>\n",
              "    </tr>\n",
              "  </tbody>\n",
              "</table>\n",
              "<p>756 rows × 11 columns</p>\n",
              "</div>\n",
              "      <button class=\"colab-df-convert\" onclick=\"convertToInteractive('df-7e02cb1c-698b-4e23-b4f2-da24f58c1c49')\"\n",
              "              title=\"Convert this dataframe to an interactive table.\"\n",
              "              style=\"display:none;\">\n",
              "        \n",
              "  <svg xmlns=\"http://www.w3.org/2000/svg\" height=\"24px\"viewBox=\"0 0 24 24\"\n",
              "       width=\"24px\">\n",
              "    <path d=\"M0 0h24v24H0V0z\" fill=\"none\"/>\n",
              "    <path d=\"M18.56 5.44l.94 2.06.94-2.06 2.06-.94-2.06-.94-.94-2.06-.94 2.06-2.06.94zm-11 1L8.5 8.5l.94-2.06 2.06-.94-2.06-.94L8.5 2.5l-.94 2.06-2.06.94zm10 10l.94 2.06.94-2.06 2.06-.94-2.06-.94-.94-2.06-.94 2.06-2.06.94z\"/><path d=\"M17.41 7.96l-1.37-1.37c-.4-.4-.92-.59-1.43-.59-.52 0-1.04.2-1.43.59L10.3 9.45l-7.72 7.72c-.78.78-.78 2.05 0 2.83L4 21.41c.39.39.9.59 1.41.59.51 0 1.02-.2 1.41-.59l7.78-7.78 2.81-2.81c.8-.78.8-2.07 0-2.86zM5.41 20L4 18.59l7.72-7.72 1.47 1.35L5.41 20z\"/>\n",
              "  </svg>\n",
              "      </button>\n",
              "      \n",
              "  <style>\n",
              "    .colab-df-container {\n",
              "      display:flex;\n",
              "      flex-wrap:wrap;\n",
              "      gap: 12px;\n",
              "    }\n",
              "\n",
              "    .colab-df-convert {\n",
              "      background-color: #E8F0FE;\n",
              "      border: none;\n",
              "      border-radius: 50%;\n",
              "      cursor: pointer;\n",
              "      display: none;\n",
              "      fill: #1967D2;\n",
              "      height: 32px;\n",
              "      padding: 0 0 0 0;\n",
              "      width: 32px;\n",
              "    }\n",
              "\n",
              "    .colab-df-convert:hover {\n",
              "      background-color: #E2EBFA;\n",
              "      box-shadow: 0px 1px 2px rgba(60, 64, 67, 0.3), 0px 1px 3px 1px rgba(60, 64, 67, 0.15);\n",
              "      fill: #174EA6;\n",
              "    }\n",
              "\n",
              "    [theme=dark] .colab-df-convert {\n",
              "      background-color: #3B4455;\n",
              "      fill: #D2E3FC;\n",
              "    }\n",
              "\n",
              "    [theme=dark] .colab-df-convert:hover {\n",
              "      background-color: #434B5C;\n",
              "      box-shadow: 0px 1px 3px 1px rgba(0, 0, 0, 0.15);\n",
              "      filter: drop-shadow(0px 1px 2px rgba(0, 0, 0, 0.3));\n",
              "      fill: #FFFFFF;\n",
              "    }\n",
              "  </style>\n",
              "\n",
              "      <script>\n",
              "        const buttonEl =\n",
              "          document.querySelector('#df-7e02cb1c-698b-4e23-b4f2-da24f58c1c49 button.colab-df-convert');\n",
              "        buttonEl.style.display =\n",
              "          google.colab.kernel.accessAllowed ? 'block' : 'none';\n",
              "\n",
              "        async function convertToInteractive(key) {\n",
              "          const element = document.querySelector('#df-7e02cb1c-698b-4e23-b4f2-da24f58c1c49');\n",
              "          const dataTable =\n",
              "            await google.colab.kernel.invokeFunction('convertToInteractive',\n",
              "                                                     [key], {});\n",
              "          if (!dataTable) return;\n",
              "\n",
              "          const docLinkHtml = 'Like what you see? Visit the ' +\n",
              "            '<a target=\"_blank\" href=https://colab.research.google.com/notebooks/data_table.ipynb>data table notebook</a>'\n",
              "            + ' to learn more about interactive tables.';\n",
              "          element.innerHTML = '';\n",
              "          dataTable['output_type'] = 'display_data';\n",
              "          await google.colab.output.renderOutput(dataTable, element);\n",
              "          const docLink = document.createElement('div');\n",
              "          docLink.innerHTML = docLinkHtml;\n",
              "          element.appendChild(docLink);\n",
              "        }\n",
              "      </script>\n",
              "    </div>\n",
              "  </div>\n",
              "  "
            ]
          },
          "metadata": {},
          "execution_count": 20
        }
      ]
    },
    {
      "cell_type": "code",
      "source": [
        "df.loc[df['State'] == 'Alabama'].groupby('Year').mean().plot()\n",
        "plt.show()"
      ],
      "metadata": {
        "colab": {
          "base_uri": "https://localhost:8080/",
          "height": 279
        },
        "id": "WVaWyny-boqL",
        "outputId": "3ae818b5-e2eb-4ca5-ed6a-2029a2280970"
      },
      "execution_count": null,
      "outputs": [
        {
          "output_type": "display_data",
          "data": {
            "text/plain": [
              "<Figure size 432x288 with 1 Axes>"
            ],
            "image/png": "[encoded data removed]"
          },
          "metadata": {
            "needs_background": "light"
          }
        }
      ]
    },
    {
      "cell_type": "code",
      "source": [
        "# prepare data\n",
        "temp_data = df.groupby('Year').mean()\n",
        "\n",
        "# plot data\n",
        "fig, ax = plt.subplots(figsize=(15,9))\n",
        "fig.suptitle('Mean yield in mm across all states between 1964 and 2020')\n",
        "\n",
        "temp_data.plot(ax=ax)\n",
        "\n",
        "ax.set_ylabel('Mean Value across all states')\n",
        "ax.set_xlabel('Year')\n",
        "\n",
        "plt.show()"
      ],
      "metadata": {
        "colab": {
          "base_uri": "https://localhost:8080/",
          "height": 437
        },
        "id": "PyJPu3PucEd_",
        "outputId": "09d9ea1a-89ca-4267-833a-6477c4f95726"
      },
      "execution_count": null,
      "outputs": [
        {
          "output_type": "display_data",
          "data": {
            "text/plain": [
              "<Figure size 1080x648 with 1 Axes>"
            ],
            "image/png": "[encoded data removed]"
          },
          "metadata": {
            "needs_background": "light"
          }
        }
      ]
    },
    {
      "cell_type": "code",
      "source": [
        "df.loc[df['State'] == 'Texas'].groupby('Year').mean().plot()\n",
        "plt.show()"
      ],
      "metadata": {
        "colab": {
          "base_uri": "https://localhost:8080/",
          "height": 279
        },
        "id": "PLMEADdjfs28",
        "outputId": "576960a8-39ea-4ddb-cacb-8bac524d1914"
      },
      "execution_count": null,
      "outputs": [
        {
          "output_type": "display_data",
          "data": {
            "text/plain": [
              "<Figure size 432x288 with 1 Axes>"
            ],
            "image/png": "[encoded data removed]"
          },
          "metadata": {
            "needs_background": "light"
          }
        }
      ]
    },
    {
      "cell_type": "markdown",
      "source": [
        "Data Processing using Pipeline"
      ],
      "metadata": {
        "id": "8anFY-TVUXFD"
      }
    },
    {
      "cell_type": "code",
      "source": [
        "from sklearn.metrics import mean_absolute_error, confusion_matrix\n",
        "from sklearn.impute import SimpleImputer\n",
        "from sklearn.preprocessing import OrdinalEncoder, OneHotEncoder, StandardScaler\n",
        "from sklearn.compose import ColumnTransformer\n",
        "from sklearn.pipeline import Pipeline\n",
        "from sklearn import linear_model\n",
        "from sklearn.model_selection import train_test_split, cross_val_score, GridSearchCV\n",
        "from xgboost import XGBRegressor"
      ],
      "metadata": {
        "id": "vJVjYA64ZuQ-"
      },
      "execution_count": null,
      "outputs": []
    },
    {
      "cell_type": "code",
      "source": [
        "num_transform = Pipeline([('imputer', SimpleImputer(strategy=\"median\"))])\n",
        "num_cols = [cname for cname in X_train.columns if X_train[cname].dtype in ['float64']]\n",
        "\n",
        "cat_transform = Pipeline(steps=[('imputer', SimpleImputer(strategy='most_frequent')),('onehot', OneHotEncoder(handle_unknown='ignore'))])\n",
        "cat_cols = [cname for cname in X_train.columns if X_train[cname].dtype in ['object']]\n",
        "\n",
        "preprocessor = ColumnTransformer(\n",
        "    transformers=[\n",
        "        ('cat', cat_transform, cat_cols),\n",
        "        ('num', num_transform, num_cols)\n",
        "    ])\n",
        "X_train_prep = preprocessor.fit_transform(X_train)"
      ],
      "metadata": {
        "id": "R7FL5Q7LUaLr"
      },
      "execution_count": null,
      "outputs": []
    },
    {
      "cell_type": "code",
      "source": [
        "X_train_prep.shape"
      ],
      "metadata": {
        "colab": {
          "base_uri": "https://localhost:8080/"
        },
        "id": "JfqhWgZEZ59z",
        "outputId": "78cd2e7f-b920-46ad-a26c-c0da6776505b"
      },
      "execution_count": null,
      "outputs": [
        {
          "output_type": "execute_result",
          "data": {
            "text/plain": [
              "(604, 9)"
            ]
          },
          "metadata": {},
          "execution_count": 19
        }
      ]
    },
    {
      "cell_type": "code",
      "source": [
        "X_test_prep = preprocessor.transform(X_test)"
      ],
      "metadata": {
        "id": "-4NrhaPpZ90v"
      },
      "execution_count": null,
      "outputs": []
    },
    {
      "cell_type": "markdown",
      "source": [
        "Linear regression"
      ],
      "metadata": {
        "id": "GuY6JVXkaA5e"
      }
    },
    {
      "cell_type": "code",
      "source": [
        "reg = linear_model.LinearRegression()\n",
        "reg.fit(X_train_prep, Y_train)"
      ],
      "metadata": {
        "colab": {
          "base_uri": "https://localhost:8080/"
        },
        "id": "2xDa6wYZaD6v",
        "outputId": "7495f35c-cc65-4edf-ddfd-ed58206fdbee"
      },
      "execution_count": null,
      "outputs": [
        {
          "output_type": "execute_result",
          "data": {
            "text/plain": [
              "LinearRegression()"
            ]
          },
          "metadata": {},
          "execution_count": 21
        }
      ]
    },
    {
      "cell_type": "code",
      "source": [
        "Y_pred = reg.predict(X_test_prep)"
      ],
      "metadata": {
        "id": "ZMIBrTuvaIdX"
      },
      "execution_count": null,
      "outputs": []
    },
    {
      "cell_type": "code",
      "source": [
        "lin_mae = mean_absolute_error(Y_test, Y_pred)\n",
        "print(f'Mean Absolute Error using Linear Regression : {lin_mae}')"
      ],
      "metadata": {
        "colab": {
          "base_uri": "https://localhost:8080/"
        },
        "id": "-ycPioxKaOQC",
        "outputId": "fe8e3bf9-833b-4d0c-8cd2-1a24d5de43c5"
      },
      "execution_count": null,
      "outputs": [
        {
          "output_type": "stream",
          "name": "stdout",
          "text": [
            "Mean Absolute Error using Linear Regression : 9.529705628077684\n"
          ]
        }
      ]
    }
  ]
}